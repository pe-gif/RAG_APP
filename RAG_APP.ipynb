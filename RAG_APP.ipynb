{
  "nbformat": 4,
  "nbformat_minor": 0,
  "metadata": {
    "colab": {
      "provenance": [],
      "authorship_tag": "ABX9TyPAhwhahLId1HPW4R4J5TpR",
      "include_colab_link": true
    },
    "kernelspec": {
      "name": "python3",
      "display_name": "Python 3"
    },
    "language_info": {
      "name": "python"
    }
  },
  "cells": [
    {
      "cell_type": "markdown",
      "metadata": {
        "id": "view-in-github",
        "colab_type": "text"
      },
      "source": [
        "<a href=\"https://colab.research.google.com/github/pe-gif/RAG_APP/blob/main/RAG_APP.ipynb\" target=\"_parent\"><img src=\"https://colab.research.google.com/assets/colab-badge.svg\" alt=\"Open In Colab\"/></a>"
      ]
    },
    {
      "cell_type": "code",
      "execution_count": null,
      "metadata": {
        "colab": {
          "base_uri": "https://localhost:8080/"
        },
        "id": "GU3HKnhLlI0J",
        "outputId": "a8595c70-6190-4741-a1c8-e9c531613795"
      },
      "outputs": [
        {
          "output_type": "stream",
          "name": "stdout",
          "text": [
            "Original data loaded, first 500 characters: A Certain Magical Index S.1 E.02\n",
            "\n",
            "Title: The Witch Hunting King (Innocentius)\n",
            "\n",
            "Character List:\n",
            "Touma Kamijou, Index, Stiyl Magnus, Mikoto Misaka, Komoe Tsukuyomi, Kuroko Shirai\n",
            "\n",
            "Japanese script from unknown (kitsunekko.net)\n",
            "English translation from Gogoanime subtitles\n",
            "Transcribed and organized by Kiriban\n",
            "\n",
            "Do not ask for permission to edit. Please read my FAQ for more usage details.\n",
            "\n",
            "\n",
            "\n",
            "Touma\n",
            "First day of summer vacation.\n",
            "\n",
            "The sister lying dead on my apartment balcony said her name is “Index”.\n",
            "\n",
            "Ap...\n",
            "Data split into 20 chunks.\n",
            "Generated 20 embeddings.\n",
            "Vector store created with 40 documents.\n",
            "RAG model is set up and ready for queries using Google's generative model.\n",
            "\n",
            "Generated Response:\n",
            "The provided text is a scene excerpt from *A Certain Magical Index*, not a complete script.  Therefore, a full narrative assessment is impossible. However, based on this excerpt, we can make some observations:\n",
            "\n",
            "**Positives:**\n",
            "\n",
            "* **Action-Oriented:** The scene is dynamic, filled with action (explosions, fire, fighting) that keeps the reader engaged.\n",
            "* **Dialogue-Driven:** The dialogue is concise and reveals character personalities (Touma's concern and Stiyl's ruthlessness).\n",
            "* **Intriguing Setup:** The initial scene with Index seemingly dead and the subsequent events create immediate intrigue and a sense of danger.\n",
            "* **Clear Stakes:** The threat is established – the runes and the attackers pursuing Index – raising the stakes for the protagonist.\n",
            "\n",
            "**Negatives/Areas for Improvement (based on the excerpt):**\n",
            "\n",
            "* **Repetitive:** The identical passages are a significant issue, suggesting a transcription error or problem with the source material.  This significantly impacts the assessment.\n",
            "* **Lack of Context:**  The excerpt is too short to fully judge the narrative arc or character development. We only see a snippet of conflict.\n",
            "* **Abrupt Transitions:** The transitions between some actions feel abrupt. More descriptive prose could improve the flow.\n",
            "* **Limited Characterization:** While some personality traits are hinted at, more development is needed to fully understand the characters' motivations and relationships.\n",
            "\n",
            "\n",
            "**Overall:**\n",
            "\n",
            "Based on the *available* text, the action scenes are well-executed, creating a sense of urgency and danger. However, the repetitive sections and lack of overall context prevent a comprehensive assessment of the narrative quality.  A complete script would allow for a more thorough evaluation.\n"
          ]
        }
      ],
      "source": [
        "import pandas as pd\n",
        "from langchain.text_splitter import RecursiveCharacterTextSplitter\n",
        "from langchain_community.embeddings import SentenceTransformerEmbeddings\n",
        "from langchain_community.vectorstores import Chroma\n",
        "from google.colab import userdata\n",
        "from langchain.chains import RetrievalQA\n",
        "from langchain_google_genai import ChatGoogleGenerativeAI\n",
        "\n",
        "\n",
        "# 1. Load data\n",
        "with open('/content/Data.txt', 'r') as f:\n",
        "  data = f.read()\n",
        "print(f\"Original data loaded, first 500 characters: {data[:500]}...\")\n",
        "\n",
        "# 2. Split data\n",
        "text_splitter = RecursiveCharacterTextSplitter(chunk_size=1000, chunk_overlap=200)\n",
        "docs = text_splitter.create_documents([data])\n",
        "print(f\"Data split into {len(docs)} chunks.\")\n",
        "\n",
        "# 3. Embed data\n",
        "embeddings = SentenceTransformerEmbeddings(model_name=\"all-MiniLM-L6-v2\")\n",
        "doc_embeddings = []\n",
        "for doc in docs:\n",
        "    doc_embeddings.append(embeddings.embed_query(doc.page_content))\n",
        "print(f\"Generated {len(doc_embeddings)} embeddings.\")\n",
        "\n",
        "# 4. Create a vector store\n",
        "vectorstore = Chroma.from_documents(docs, embeddings)\n",
        "print(f\"Vector store created with {vectorstore._collection.count()} documents.\")\n",
        "\n",
        "# 5. Set up the RAG model (using Google's generative model)\n",
        "GOOGLE_API_KEY = userdata.get('GOOGLE_API_KEY')\n",
        "\n",
        "llm = ChatGoogleGenerativeAI(model=\"gemini-1.5-flash-latest\", google_api_key=GOOGLE_API_KEY)\n",
        "retriever = vectorstore.as_retriever()\n",
        "qa_chain = RetrievalQA.from_chain_type(llm=llm, chain_type=\"stuff\", retriever=retriever)\n",
        "print(\"RAG model is set up and ready for queries using Google's generative model.\")\n",
        "\n",
        "# 6. Generate response\n",
        "query = \"Tell me a assessment on the quality and narritive of this script based on generic criteria\"\n",
        "response = qa_chain.invoke({\"query\": query})\n",
        "print(\"\\nGenerated Response:\")\n",
        "print(response['result'])"
      ]
    }
  ]
}